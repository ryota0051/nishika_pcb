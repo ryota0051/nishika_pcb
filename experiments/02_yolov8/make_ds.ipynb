{
 "cells": [
  {
   "cell_type": "code",
   "execution_count": 1,
   "id": "728ab736-c2dd-4564-8423-c096200f611f",
   "metadata": {
    "tags": []
   },
   "outputs": [],
   "source": [
    "%matplotlib inline\n",
    "import shutil\n",
    "from  ast import literal_eval\n",
    "from pathlib import Path\n",
    "\n",
    "import cv2\n",
    "import numpy as np\n",
    "import matplotlib.pyplot as plt\n",
    "import pandas as pd\n",
    "from tqdm import tqdm\n",
    "\n",
    "from common import constant\n",
    "from common import rle"
   ]
  },
  {
   "cell_type": "code",
   "execution_count": 2,
   "id": "0581b325-a938-43fb-8b55-e64a6060dcec",
   "metadata": {
    "tags": []
   },
   "outputs": [],
   "source": [
    "SAVE_DST = Path(constant.DATASET_PATH) / 'yolov8_txt_data'\n",
    "SAVE_DST.mkdir(parents=True, exist_ok=True)\n",
    "\n",
    "TRAIN_DST = Path(constant.DATASET_PATH) / 'yolov8'\n",
    "TRAIN_DST.mkdir(parents=True, exist_ok=True)"
   ]
  },
  {
   "cell_type": "code",
   "execution_count": 3,
   "id": "3627950d-4fdd-45bb-a5ef-4a61888e4345",
   "metadata": {
    "tags": []
   },
   "outputs": [],
   "source": [
    "df = pd.read_csv(constant.TRAIN_CSV_PATH)"
   ]
  },
  {
   "cell_type": "code",
   "execution_count": 3,
   "id": "9b34137b-64eb-4b56-aa86-bfa4a57d78ed",
   "metadata": {
    "tags": []
   },
   "outputs": [
    {
     "name": "stdout",
     "output_type": "stream",
     "text": [
      "16122\n",
      "16142\n",
      "16143\n",
      "16144\n",
      "16145\n",
      "16146\n",
      "16147\n",
      "16148\n",
      "16149\n",
      "23532\n",
      "24348\n",
      "24349\n",
      "24350\n",
      "24351\n",
      "24352\n",
      "24353\n",
      "24354\n",
      "24355\n",
      "24356\n"
     ]
    }
   ],
   "source": [
    "# Verticesは1つであるはずだが、そうでないもののインデックスを取得\n",
    "irregulars = []\n",
    "for i, row in df.iterrows():\n",
    "    if len(literal_eval(row['Vertices'])) != 1:\n",
    "        irregulars.append(i)\n",
    "        print(i)"
   ]
  },
  {
   "cell_type": "code",
   "execution_count": 5,
   "id": "58db2b15-7fbb-44d6-be32-e6e80faf32ce",
   "metadata": {
    "tags": []
   },
   "outputs": [],
   "source": [
    "# 以下のインスタンスはアノテーションみすっぽい(下記の可視化で目視確認)\n",
    "miss_annt_instance_indexes = [16142, 16143, 16144, 16145, 16146, 16147, 16148, 16149]"
   ]
  },
  {
   "cell_type": "code",
   "execution_count": null,
   "id": "26ede9da-7033-4b79-9c41-dd381d4c8a86",
   "metadata": {
    "tags": []
   },
   "outputs": [],
   "source": [
    "# for i in irregulars:\n",
    "#     print(i)\n",
    "#     row = df.iloc[i]\n",
    "#     encoded = rle.rle_decode(row['rle'], shape=(row['height'], row['width']))\n",
    "#     plt.imshow(encoded)\n",
    "#     plt.show()\n",
    "#     vertices = literal_eval(row['Vertices'])\n",
    "#     for vertice in vertices:\n",
    "#         img = plt.imread(constant.TRAIN_IMG_ROOT / row['image'])\n",
    "#         cv2.fillPoly(img, [np.array(vertice)], (255, 0, 0))\n",
    "#         plt.imshow(img)\n",
    "#         plt.show()"
   ]
  },
  {
   "cell_type": "code",
   "execution_count": 40,
   "id": "2cb9e991-c510-406f-96fa-62240e19c761",
   "metadata": {
    "tags": []
   },
   "outputs": [],
   "source": [
    "img_list = df['image'].unique().tolist()\n",
    "for target_img in img_list:\n",
    "    target_df = df[df['image'] == target_img]\n",
    "    result = []\n",
    "    for i, row in target_df.iterrows():\n",
    "        if i in miss_annt_instance_indexes:\n",
    "            continue\n",
    "        divide_arr = np.array([row['width'], row['height']])\n",
    "        vertices = (np.array(literal_eval(row['Vertices'])[0]) / divide_arr).reshape(-1).tolist()\n",
    "        result.append([0] + vertices)\n",
    "    txt_name = target_img.replace('.png', '.txt')\n",
    "    with open(str(SAVE_DST / txt_name), 'w') as f:\n",
    "        for i in range(len(result)):\n",
    "            line = *(result[i]),\n",
    "            f.write(('%g ' * len(line)).rstrip() % line + '\\n')"
   ]
  },
  {
   "cell_type": "code",
   "execution_count": 4,
   "id": "4bb28c17-c443-4e1a-8b08-d774e12a04bb",
   "metadata": {
    "tags": []
   },
   "outputs": [
    {
     "name": "stderr",
     "output_type": "stream",
     "text": [
      "100%|█████████████████████████████████████████| 122/122 [00:07<00:00, 17.02it/s]\n"
     ]
    }
   ],
   "source": [
    "img_dst_dir = TRAIN_DST / 'images' / 'train'\n",
    "img_dst_dir.mkdir(parents=True, exist_ok=True)\n",
    "label_dst_dir = TRAIN_DST / 'labels' / 'train'\n",
    "label_dst_dir.mkdir(parents=True, exist_ok=True)\n",
    "\n",
    "img_list = df['image'].unique().tolist()\n",
    "for target in tqdm(img_list):\n",
    "    img_src = constant.TRAIN_IMG_ROOT / target\n",
    "    img_dst = img_dst_dir / target\n",
    "    shutil.copy(img_src, img_dst)\n",
    "    \n",
    "    txt_name = target.replace('.png', '.txt')\n",
    "    txt_src = SAVE_DST / txt_name\n",
    "    txt_dst = label_dst_dir / txt_name\n",
    "    shutil.copy(txt_src, txt_dst)"
   ]
  },
  {
   "cell_type": "code",
   "execution_count": 12,
   "id": "ee5686c7-e178-40e4-8af8-577bf0e53dbd",
   "metadata": {
    "tags": []
   },
   "outputs": [
    {
     "data": {
      "text/plain": [
       "PosixPath('/work/dataset/yolov8/images/train/pcb_32b_cc_12.png/pcb_9f_cc_5.png')"
      ]
     },
     "execution_count": 12,
     "metadata": {},
     "output_type": "execute_result"
    }
   ],
   "source": [
    "img_dst"
   ]
  }
 ],
 "metadata": {
  "kernelspec": {
   "display_name": "Python 3 (ipykernel)",
   "language": "python",
   "name": "python3"
  },
  "language_info": {
   "codemirror_mode": {
    "name": "ipython",
    "version": 3
   },
   "file_extension": ".py",
   "mimetype": "text/x-python",
   "name": "python",
   "nbconvert_exporter": "python",
   "pygments_lexer": "ipython3",
   "version": "3.10.8"
  }
 },
 "nbformat": 4,
 "nbformat_minor": 5
}
