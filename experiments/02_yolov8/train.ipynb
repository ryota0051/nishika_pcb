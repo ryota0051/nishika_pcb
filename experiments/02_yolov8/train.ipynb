{
 "cells": [
  {
   "cell_type": "code",
   "execution_count": 8,
   "id": "be47aea0-55ba-4059-b1d9-69f133a8d378",
   "metadata": {
    "tags": []
   },
   "outputs": [],
   "source": [
    "from pathlib import Path\n",
    "\n",
    "import matplotlib.pyplot as plt\n",
    "from ultralyticsplus import YOLO, render_result\n",
    "\n",
    "from common import constant"
   ]
  },
  {
   "cell_type": "code",
   "execution_count": 4,
   "id": "2be8aae8-48da-4c6f-8378-091c001bbd4a",
   "metadata": {
    "tags": []
   },
   "outputs": [],
   "source": [
    "model = YOLO('keremberke/yolov8s-pcb-defect-segmentation')\n"
   ]
  },
  {
   "cell_type": "code",
   "execution_count": 5,
   "id": "e0eb2f7c-ea29-4c6c-a7f2-7c7579057ae3",
   "metadata": {
    "tags": []
   },
   "outputs": [
    {
     "name": "stderr",
     "output_type": "stream",
     "text": [
      "Ultralytics YOLOv8.0.43 🚀 Python-3.10.8 torch-2.0.0+cu117 CUDA:0 (NVIDIA GeForce RTX 2060 SUPER, 7967MiB)\n",
      "\u001b[34m\u001b[1myolo/engine/trainer: \u001b[0mtask=segment, mode=train, model=yolov8s-seg.yaml, data=/work/dataset/yolov8/dataset.yml, epochs=30, patience=50, batch=1, imgsz=640, save=True, save_period=-1, cache=False, device=None, workers=7, project=None, name=None, exist_ok=False, pretrained=False, optimizer=SGD, verbose=True, seed=0, deterministic=True, single_cls=False, image_weights=False, rect=False, cos_lr=False, close_mosaic=10, resume=False, min_memory=False, overlap_mask=True, mask_ratio=4, dropout=False, val=True, split=val, save_json=False, save_hybrid=False, conf=0.001, iou=0.7, max_det=300, half=False, dnn=False, plots=True, source=ultralytics/assets/, show=False, save_txt=False, save_conf=False, save_crop=False, hide_labels=False, hide_conf=False, vid_stride=1, line_thickness=3, visualize=False, augment=False, agnostic_nms=False, classes=None, retina_masks=False, boxes=True, format=torchscript, keras=False, optimize=False, int8=False, dynamic=False, simplify=False, opset=None, workspace=4, nms=False, lr0=0.01, lrf=0.01, momentum=0.937, weight_decay=0.001, warmup_epochs=3.0, warmup_momentum=0.8, warmup_bias_lr=0.1, box=7.5, cls=0.5, dfl=1.5, fl_gamma=0.0, label_smoothing=0.0, nbs=64, hsv_h=0.015, hsv_s=0.7, hsv_v=0.4, degrees=90.0, translate=0.1, scale=0.6, shear=0.0, perspective=0.0, flipud=0.0, fliplr=0.5, mosaic=1.0, mixup=0.0, copy_paste=0.0, cfg=None, v5loader=False, tracker=botsort.yaml, save_dir=runs/segment/train\n",
      "Overriding model.yaml nc=4 with nc=1\n",
      "\n",
      "                   from  n    params  module                                       arguments                     \n",
      "  0                  -1  1       928  ultralytics.nn.modules.Conv                  [3, 32, 3, 2]                 \n",
      "  1                  -1  1     18560  ultralytics.nn.modules.Conv                  [32, 64, 3, 2]                \n",
      "  2                  -1  1     29056  ultralytics.nn.modules.C2f                   [64, 64, 1, True]             \n",
      "  3                  -1  1     73984  ultralytics.nn.modules.Conv                  [64, 128, 3, 2]               \n",
      "  4                  -1  2    197632  ultralytics.nn.modules.C2f                   [128, 128, 2, True]           \n",
      "  5                  -1  1    295424  ultralytics.nn.modules.Conv                  [128, 256, 3, 2]              \n",
      "  6                  -1  2    788480  ultralytics.nn.modules.C2f                   [256, 256, 2, True]           \n",
      "  7                  -1  1   1180672  ultralytics.nn.modules.Conv                  [256, 512, 3, 2]              \n",
      "  8                  -1  1   1838080  ultralytics.nn.modules.C2f                   [512, 512, 1, True]           \n",
      "  9                  -1  1    656896  ultralytics.nn.modules.SPPF                  [512, 512, 5]                 \n",
      " 10                  -1  1         0  torch.nn.modules.upsampling.Upsample         [None, 2, 'nearest']          \n",
      " 11             [-1, 6]  1         0  ultralytics.nn.modules.Concat                [1]                           \n",
      " 12                  -1  1    591360  ultralytics.nn.modules.C2f                   [768, 256, 1]                 \n",
      " 13                  -1  1         0  torch.nn.modules.upsampling.Upsample         [None, 2, 'nearest']          \n",
      " 14             [-1, 4]  1         0  ultralytics.nn.modules.Concat                [1]                           \n",
      " 15                  -1  1    148224  ultralytics.nn.modules.C2f                   [384, 128, 1]                 \n",
      " 16                  -1  1    147712  ultralytics.nn.modules.Conv                  [128, 128, 3, 2]              \n",
      " 17            [-1, 12]  1         0  ultralytics.nn.modules.Concat                [1]                           \n",
      " 18                  -1  1    493056  ultralytics.nn.modules.C2f                   [384, 256, 1]                 \n",
      " 19                  -1  1    590336  ultralytics.nn.modules.Conv                  [256, 256, 3, 2]              \n",
      " 20             [-1, 9]  1         0  ultralytics.nn.modules.Concat                [1]                           \n",
      " 21                  -1  1   1969152  ultralytics.nn.modules.C2f                   [768, 512, 1]                 \n",
      " 22        [15, 18, 21]  1   2770931  ultralytics.nn.modules.Segment               [1, 32, 128, [128, 256, 512]] \n",
      "YOLOv8s-seg summary: 261 layers, 11790483 parameters, 11790467 gradients, 42.7 GFLOPs\n",
      "\n",
      "Transferred 411/417 items from pretrained weights\n",
      "\u001b[34m\u001b[1moptimizer:\u001b[0m SGD(lr=0.01) with parameter groups 66 weight(decay=0.0), 77 weight(decay=0.001), 76 bias\n",
      "\u001b[34m\u001b[1mtrain: \u001b[0mScanning /work/dataset/yolov8/labels/train.cache... 122 images, 0 backgro\u001b[0m\n",
      "\u001b[34m\u001b[1malbumentations: \u001b[0mBlur(p=0.01, blur_limit=(3, 7)), MedianBlur(p=0.01, blur_limit=(3, 7)), ToGray(p=0.01), CLAHE(p=0.01, clip_limit=(1, 4.0), tile_grid_size=(8, 8))\n",
      "\u001b[34m\u001b[1mval: \u001b[0mScanning /work/dataset/yolov8/labels/train.cache... 122 images, 0 backgroun\u001b[0m\n",
      "Plotting labels to runs/segment/train/labels.jpg... \n",
      "Image sizes 640 train, 640 val\n",
      "Using 0 dataloader workers\n",
      "Logging results to \u001b[1mruns/segment/train\u001b[0m\n",
      "Starting training for 30 epochs...\n",
      "\n",
      "      Epoch    GPU_mem   box_loss   seg_loss   cls_loss   dfl_loss  Instances       Size\n",
      "       1/30      3.54G      2.557      4.668      3.283      1.549       1112   \n",
      "                 Class     Images  Instances      Box(P          R      mAP50  m\n",
      "                   all        122      25695       0.27     0.0842      0.087       0.04      0.208      0.103     0.0905     0.0382\n",
      "\n",
      "      Epoch    GPU_mem   box_loss   seg_loss   cls_loss   dfl_loss  Instances       Size\n",
      "       2/30       6.6G      2.203      3.803       1.99      1.322        341   \n",
      "                 Class     Images  Instances      Box(P          R      mAP50  m\n",
      "                   all        122      25695      0.287      0.156      0.162     0.0737      0.242       0.19      0.178     0.0837\n",
      "\n",
      "      Epoch    GPU_mem   box_loss   seg_loss   cls_loss   dfl_loss  Instances       Size\n",
      "       3/30       6.6G      2.152      3.592      2.217      1.225        336   \n",
      "                 Class     Images  Instances      Box(P          R      mAP50  m\n",
      "                   all        122      25695      0.296       0.16      0.158     0.0671      0.309       0.22      0.213     0.0984\n",
      "\n",
      "      Epoch    GPU_mem   box_loss   seg_loss   cls_loss   dfl_loss  Instances       Size\n",
      "       4/30       6.6G      2.063       3.51      1.913      1.164         59   \n",
      "                 Class     Images  Instances      Box(P          R      mAP50  m\n",
      "                   all        122      25695      0.281      0.146      0.166     0.0784      0.194      0.276      0.212      0.112\n",
      "\n",
      "      Epoch    GPU_mem   box_loss   seg_loss   cls_loss   dfl_loss  Instances       Size\n",
      "       5/30       6.6G      1.997      3.486      1.549      1.152        109   \n",
      "                 Class     Images  Instances      Box(P          R      mAP50  m\n",
      "                   all        122      25695      0.364      0.164      0.189     0.0877      0.336      0.245      0.254       0.12\n",
      "\n",
      "      Epoch    GPU_mem   box_loss   seg_loss   cls_loss   dfl_loss  Instances       Size\n",
      "       6/30       6.6G       1.99      3.444      1.563      1.154        333   \n",
      "                 Class     Images  Instances      Box(P          R      mAP50  m\n",
      "                   all        122      25695       0.38      0.167      0.202     0.0957      0.287      0.279      0.258      0.124\n",
      "\n",
      "      Epoch    GPU_mem   box_loss   seg_loss   cls_loss   dfl_loss  Instances       Size\n",
      "       7/30       6.6G      2.006       3.11      1.437      1.145         76   \n",
      "                 Class     Images  Instances      Box(P          R      mAP50  m\n",
      "                   all        122      25695      0.386      0.174      0.213      0.101      0.282      0.322      0.281      0.133\n",
      "\n",
      "      Epoch    GPU_mem   box_loss   seg_loss   cls_loss   dfl_loss  Instances       Size\n",
      "       8/30       6.6G      2.005      3.016      1.385      1.121        162   \n",
      "                 Class     Images  Instances      Box(P          R      mAP50  m\n",
      "                   all        122      25695       0.39      0.181      0.215      0.105      0.365      0.286      0.295      0.136\n",
      "\n",
      "      Epoch    GPU_mem   box_loss   seg_loss   cls_loss   dfl_loss  Instances       Size\n",
      "       9/30       6.6G      1.949      2.985      1.335      1.098        100   \n",
      "                 Class     Images  Instances      Box(P          R      mAP50  m\n",
      "                   all        122      25695      0.395      0.186       0.22      0.107      0.385      0.295       0.31      0.143\n",
      "\n",
      "      Epoch    GPU_mem   box_loss   seg_loss   cls_loss   dfl_loss  Instances       Size\n",
      "      10/30       6.6G      1.903      2.918      1.293      1.099        432   \n",
      "                 Class     Images  Instances      Box(P          R      mAP50  m\n",
      "                   all        122      25695      0.429       0.21       0.25      0.117      0.234      0.317      0.263      0.121\n",
      "\n",
      "      Epoch    GPU_mem   box_loss   seg_loss   cls_loss   dfl_loss  Instances       Size\n",
      "      11/30       6.6G      1.906      2.917       1.37      1.087        130   \n",
      "                 Class     Images  Instances      Box(P          R      mAP50  m\n",
      "                   all        122      25695      0.422      0.218      0.259      0.119      0.342      0.242      0.267      0.124\n",
      "\n",
      "      Epoch    GPU_mem   box_loss   seg_loss   cls_loss   dfl_loss  Instances       Size\n",
      "      12/30       6.6G      1.924      2.914      1.565      1.063        114   \n",
      "                 Class     Images  Instances      Box(P          R      mAP50  m\n",
      "                   all        122      25695      0.253      0.325      0.287      0.133      0.239       0.34      0.275       0.13\n",
      "\n",
      "      Epoch    GPU_mem   box_loss   seg_loss   cls_loss   dfl_loss  Instances       Size\n",
      "      13/30       6.6G      1.901      2.837      1.938      1.041          5   \n",
      "                 Class     Images  Instances      Box(P          R      mAP50  m\n",
      "                   all        122      25695      0.408      0.222      0.254      0.121      0.408      0.335      0.341      0.172\n",
      "\n",
      "      Epoch    GPU_mem   box_loss   seg_loss   cls_loss   dfl_loss  Instances       Size\n",
      "      14/30       6.6G       1.78      2.807      1.199      1.035        143   \n",
      "                 Class     Images  Instances      Box(P          R      mAP50  m\n",
      "                   all        122      25695      0.425      0.229      0.267      0.132      0.404      0.328       0.34      0.169\n",
      "\n",
      "      Epoch    GPU_mem   box_loss   seg_loss   cls_loss   dfl_loss  Instances       Size\n",
      "      15/30       6.6G      1.789      2.783      1.244      1.017        486   \n",
      "                 Class     Images  Instances      Box(P          R      mAP50  m\n",
      "                   all        122      25695      0.463      0.267      0.304      0.148      0.344      0.292      0.293      0.145\n",
      "\n",
      "      Epoch    GPU_mem   box_loss   seg_loss   cls_loss   dfl_loss  Instances       Size\n",
      "      16/30       6.6G      1.797      2.699      1.225      1.041        633   \n",
      "                 Class     Images  Instances      Box(P          R      mAP50  m\n",
      "                   all        122      25695      0.448      0.245      0.288      0.133      0.255       0.25      0.234      0.109\n",
      "\n",
      "      Epoch    GPU_mem   box_loss   seg_loss   cls_loss   dfl_loss  Instances       Size\n",
      "      17/30       6.6G      1.796      2.706      1.191      1.012        128   \n",
      "                 Class     Images  Instances      Box(P          R      mAP50  m\n",
      "                   all        122      25695      0.507      0.274      0.331      0.159      0.383      0.256      0.292      0.139\n",
      "\n",
      "      Epoch    GPU_mem   box_loss   seg_loss   cls_loss   dfl_loss  Instances       Size\n",
      "      18/30       6.6G        1.7      2.504      1.098      1.015        261   \n",
      "                 Class     Images  Instances      Box(P          R      mAP50  m\n",
      "                   all        122      25695      0.495       0.29      0.341      0.168      0.367      0.288      0.309      0.147\n",
      "\n",
      "      Epoch    GPU_mem   box_loss   seg_loss   cls_loss   dfl_loss  Instances       Size\n",
      "      19/30       6.6G      1.756      2.608      1.172       1.01        270   \n",
      "                 Class     Images  Instances      Box(P          R      mAP50  m\n",
      "                   all        122      25695      0.515      0.281      0.337      0.162      0.431      0.334      0.364      0.179\n",
      "\n",
      "      Epoch    GPU_mem   box_loss   seg_loss   cls_loss   dfl_loss  Instances       Size\n",
      "      20/30       6.6G      1.632      2.491      1.096     0.9986         81   \n",
      "                 Class     Images  Instances      Box(P          R      mAP50  m\n",
      "                   all        122      25695      0.521      0.282       0.34      0.163      0.444      0.347       0.38      0.189\n",
      "Closing dataloader mosaic\n",
      "\u001b[34m\u001b[1malbumentations: \u001b[0mBlur(p=0.01, blur_limit=(3, 7)), MedianBlur(p=0.01, blur_limit=(3, 7)), ToGray(p=0.01), CLAHE(p=0.01, clip_limit=(1, 4.0), tile_grid_size=(8, 8))\n",
      "\n",
      "      Epoch    GPU_mem   box_loss   seg_loss   cls_loss   dfl_loss  Instances       Size\n",
      "      21/30       6.6G      1.994      3.238        3.3      1.013         76   \n",
      "                 Class     Images  Instances      Box(P          R      mAP50  m\n",
      "                   all        122      25695      0.527      0.291       0.35      0.167      0.451      0.333      0.374      0.187\n",
      "\n",
      "      Epoch    GPU_mem   box_loss   seg_loss   cls_loss   dfl_loss  Instances       Size\n",
      "      22/30       6.6G      2.089      2.989      1.819      1.032        122   \n",
      "                 Class     Images  Instances      Box(P          R      mAP50  m\n",
      "                   all        122      25695      0.478        0.3      0.345      0.167      0.323      0.304      0.296       0.14\n",
      "\n",
      "      Epoch    GPU_mem   box_loss   seg_loss   cls_loss   dfl_loss  Instances       Size\n",
      "      23/30       6.6G      2.059      3.027      1.637     0.9998        407   \n",
      "                 Class     Images  Instances      Box(P          R      mAP50  m\n",
      "                   all        122      25695      0.377       0.34      0.351       0.17      0.248      0.321      0.286      0.138\n",
      "\n",
      "      Epoch    GPU_mem   box_loss   seg_loss   cls_loss   dfl_loss  Instances       Size\n",
      "      24/30       6.6G      2.101      3.246      1.689      1.015        154   \n",
      "                 Class     Images  Instances      Box(P          R      mAP50  m\n",
      "                   all        122      25695      0.465      0.318      0.355      0.171      0.274      0.349      0.315      0.152\n",
      "\n",
      "      Epoch    GPU_mem   box_loss   seg_loss   cls_loss   dfl_loss  Instances       Size\n",
      "      25/30       6.6G      2.062      2.953      1.536     0.9878         72   \n",
      "                 Class     Images  Instances      Box(P          R      mAP50  m\n",
      "                   all        122      25695       0.54      0.286      0.353      0.169      0.345      0.281      0.299      0.146\n",
      "\n",
      "      Epoch    GPU_mem   box_loss   seg_loss   cls_loss   dfl_loss  Instances       Size\n",
      "      26/30       6.6G      2.106      3.024      1.488      1.014        355   \n",
      "                 Class     Images  Instances      Box(P          R      mAP50  m\n",
      "                   all        122      25695      0.549      0.249      0.324      0.157      0.389      0.212      0.268      0.132\n",
      "\n",
      "      Epoch    GPU_mem   box_loss   seg_loss   cls_loss   dfl_loss  Instances       Size\n",
      "      27/30       6.6G      2.047      2.952      1.471      0.985         22   \n",
      "                 Class     Images  Instances      Box(P          R      mAP50  m\n",
      "                   all        122      25695      0.563      0.265      0.342      0.163      0.409      0.248        0.3      0.147\n",
      "\n",
      "      Epoch    GPU_mem   box_loss   seg_loss   cls_loss   dfl_loss  Instances       Size\n",
      "      28/30       6.6G      1.963      2.772      1.417     0.9948        159   \n",
      "                 Class     Images  Instances      Box(P          R      mAP50  m\n",
      "                   all        122      25695       0.55       0.27      0.342      0.163       0.39      0.247      0.293      0.141\n",
      "\n",
      "      Epoch    GPU_mem   box_loss   seg_loss   cls_loss   dfl_loss  Instances       Size\n",
      "      29/30       6.6G      2.015      3.005      1.564      1.002        102   \n",
      "                 Class     Images  Instances      Box(P          R      mAP50  m\n",
      "                   all        122      25695      0.543      0.278      0.348      0.166      0.412      0.261       0.31      0.149\n",
      "\n",
      "      Epoch    GPU_mem   box_loss   seg_loss   cls_loss   dfl_loss  Instances       Size\n",
      "      30/30       6.6G      1.978      2.792      1.412     0.9836        162   \n",
      "                 Class     Images  Instances      Box(P          R      mAP50  m\n",
      "                   all        122      25695       0.55       0.28      0.351      0.167      0.387      0.254      0.296       0.14\n",
      "\n",
      "30 epochs completed in 1.914 hours.\n",
      "Optimizer stripped from runs/segment/train/weights/last.pt, 23.8MB\n",
      "Optimizer stripped from runs/segment/train/weights/best.pt, 23.8MB\n",
      "\n",
      "Validating runs/segment/train/weights/best.pt...\n",
      "Ultralytics YOLOv8.0.43 🚀 Python-3.10.8 torch-2.0.0+cu117 CUDA:0 (NVIDIA GeForce RTX 2060 SUPER, 7967MiB)\n",
      "YOLOv8s-seg summary (fused): 195 layers, 11779987 parameters, 0 gradients, 42.4 GFLOPs\n"
     ]
    },
    {
     "ename": "FileNotFoundError",
     "evalue": "Dataset '/work/dataset/yolov8/dataset.yml' not found ❌",
     "output_type": "error",
     "traceback": [
      "\u001b[0;31m---------------------------------------------------------------------------\u001b[0m",
      "\u001b[0;31mFileNotFoundError\u001b[0m                         Traceback (most recent call last)",
      "Cell \u001b[0;32mIn[5], line 4\u001b[0m\n\u001b[1;32m      2\u001b[0m model \u001b[38;5;241m=\u001b[39m YOLO(\u001b[38;5;124m'\u001b[39m\u001b[38;5;124mkeremberke/yolov8s-pcb-defect-segmentation\u001b[39m\u001b[38;5;124m'\u001b[39m)\n\u001b[1;32m      3\u001b[0m yml_path \u001b[38;5;241m=\u001b[39m Path(constant\u001b[38;5;241m.\u001b[39mDATASET_PATH) \u001b[38;5;241m/\u001b[39m \u001b[38;5;124m'\u001b[39m\u001b[38;5;124myolov8/dataset.yml\u001b[39m\u001b[38;5;124m'\u001b[39m\n\u001b[0;32m----> 4\u001b[0m \u001b[43mmodel\u001b[49m\u001b[38;5;241;43m.\u001b[39;49m\u001b[43mtrain\u001b[49m\u001b[43m(\u001b[49m\u001b[43mdata\u001b[49m\u001b[38;5;241;43m=\u001b[39;49m\u001b[38;5;28;43mstr\u001b[39;49m\u001b[43m(\u001b[49m\u001b[43myml_path\u001b[49m\u001b[43m)\u001b[49m\u001b[43m,\u001b[49m\u001b[43m \u001b[49m\u001b[43mepochs\u001b[49m\u001b[38;5;241;43m=\u001b[39;49m\u001b[38;5;241;43m30\u001b[39;49m\u001b[43m,\u001b[49m\u001b[43m \u001b[49m\u001b[43mbatch\u001b[49m\u001b[38;5;241;43m=\u001b[39;49m\u001b[38;5;241;43m1\u001b[39;49m\u001b[43m,\u001b[49m\u001b[43m \u001b[49m\u001b[43mworkers\u001b[49m\u001b[38;5;241;43m=\u001b[39;49m\u001b[38;5;241;43m7\u001b[39;49m\u001b[43m,\u001b[49m\u001b[43m \u001b[49m\u001b[43mdegrees\u001b[49m\u001b[38;5;241;43m=\u001b[39;49m\u001b[38;5;241;43m90.0\u001b[39;49m\u001b[43m)\u001b[49m\n",
      "File \u001b[0;32m/opt/conda/lib/python3.10/site-packages/ultralytics/yolo/engine/model.py:297\u001b[0m, in \u001b[0;36mYOLO.train\u001b[0;34m(self, **kwargs)\u001b[0m\n\u001b[1;32m    295\u001b[0m     \u001b[38;5;28mself\u001b[39m\u001b[38;5;241m.\u001b[39mtrainer\u001b[38;5;241m.\u001b[39mmodel \u001b[38;5;241m=\u001b[39m \u001b[38;5;28mself\u001b[39m\u001b[38;5;241m.\u001b[39mtrainer\u001b[38;5;241m.\u001b[39mget_model(weights\u001b[38;5;241m=\u001b[39m\u001b[38;5;28mself\u001b[39m\u001b[38;5;241m.\u001b[39mmodel \u001b[38;5;28;01mif\u001b[39;00m \u001b[38;5;28mself\u001b[39m\u001b[38;5;241m.\u001b[39mckpt \u001b[38;5;28;01melse\u001b[39;00m \u001b[38;5;28;01mNone\u001b[39;00m, cfg\u001b[38;5;241m=\u001b[39m\u001b[38;5;28mself\u001b[39m\u001b[38;5;241m.\u001b[39mmodel\u001b[38;5;241m.\u001b[39myaml)\n\u001b[1;32m    296\u001b[0m     \u001b[38;5;28mself\u001b[39m\u001b[38;5;241m.\u001b[39mmodel \u001b[38;5;241m=\u001b[39m \u001b[38;5;28mself\u001b[39m\u001b[38;5;241m.\u001b[39mtrainer\u001b[38;5;241m.\u001b[39mmodel\n\u001b[0;32m--> 297\u001b[0m \u001b[38;5;28;43mself\u001b[39;49m\u001b[38;5;241;43m.\u001b[39;49m\u001b[43mtrainer\u001b[49m\u001b[38;5;241;43m.\u001b[39;49m\u001b[43mtrain\u001b[49m\u001b[43m(\u001b[49m\u001b[43m)\u001b[49m\n\u001b[1;32m    298\u001b[0m \u001b[38;5;66;03m# update model and cfg after training\u001b[39;00m\n\u001b[1;32m    299\u001b[0m \u001b[38;5;28;01mif\u001b[39;00m RANK \u001b[38;5;129;01min\u001b[39;00m {\u001b[38;5;241m0\u001b[39m, \u001b[38;5;241m-\u001b[39m\u001b[38;5;241m1\u001b[39m}:\n",
      "File \u001b[0;32m/opt/conda/lib/python3.10/site-packages/ultralytics/yolo/engine/trainer.py:189\u001b[0m, in \u001b[0;36mBaseTrainer.train\u001b[0;34m(self)\u001b[0m\n\u001b[1;32m    187\u001b[0m         ddp_cleanup(\u001b[38;5;28mself\u001b[39m, file)\n\u001b[1;32m    188\u001b[0m \u001b[38;5;28;01melse\u001b[39;00m:\n\u001b[0;32m--> 189\u001b[0m     \u001b[38;5;28;43mself\u001b[39;49m\u001b[38;5;241;43m.\u001b[39;49m\u001b[43m_do_train\u001b[49m\u001b[43m(\u001b[49m\u001b[43mRANK\u001b[49m\u001b[43m,\u001b[49m\u001b[43m \u001b[49m\u001b[43mworld_size\u001b[49m\u001b[43m)\u001b[49m\n",
      "File \u001b[0;32m/opt/conda/lib/python3.10/site-packages/ultralytics/yolo/engine/trainer.py:377\u001b[0m, in \u001b[0;36mBaseTrainer._do_train\u001b[0;34m(self, rank, world_size)\u001b[0m\n\u001b[1;32m    373\u001b[0m \u001b[38;5;28;01mif\u001b[39;00m rank \u001b[38;5;129;01min\u001b[39;00m {\u001b[38;5;241m-\u001b[39m\u001b[38;5;241m1\u001b[39m, \u001b[38;5;241m0\u001b[39m}:\n\u001b[1;32m    374\u001b[0m     \u001b[38;5;66;03m# Do final val with best.pt\u001b[39;00m\n\u001b[1;32m    375\u001b[0m     \u001b[38;5;28mself\u001b[39m\u001b[38;5;241m.\u001b[39mlog(\u001b[38;5;124mf\u001b[39m\u001b[38;5;124m'\u001b[39m\u001b[38;5;130;01m\\n\u001b[39;00m\u001b[38;5;132;01m{\u001b[39;00mepoch\u001b[38;5;250m \u001b[39m\u001b[38;5;241m-\u001b[39m\u001b[38;5;250m \u001b[39m\u001b[38;5;28mself\u001b[39m\u001b[38;5;241m.\u001b[39mstart_epoch\u001b[38;5;250m \u001b[39m\u001b[38;5;241m+\u001b[39m\u001b[38;5;250m \u001b[39m\u001b[38;5;241m1\u001b[39m\u001b[38;5;132;01m}\u001b[39;00m\u001b[38;5;124m epochs completed in \u001b[39m\u001b[38;5;124m'\u001b[39m\n\u001b[1;32m    376\u001b[0m              \u001b[38;5;124mf\u001b[39m\u001b[38;5;124m'\u001b[39m\u001b[38;5;132;01m{\u001b[39;00m(time\u001b[38;5;241m.\u001b[39mtime()\u001b[38;5;250m \u001b[39m\u001b[38;5;241m-\u001b[39m\u001b[38;5;250m \u001b[39m\u001b[38;5;28mself\u001b[39m\u001b[38;5;241m.\u001b[39mtrain_time_start)\u001b[38;5;250m \u001b[39m\u001b[38;5;241m/\u001b[39m\u001b[38;5;250m \u001b[39m\u001b[38;5;241m3600\u001b[39m\u001b[38;5;132;01m:\u001b[39;00m\u001b[38;5;124m.3f\u001b[39m\u001b[38;5;132;01m}\u001b[39;00m\u001b[38;5;124m hours.\u001b[39m\u001b[38;5;124m'\u001b[39m)\n\u001b[0;32m--> 377\u001b[0m     \u001b[38;5;28;43mself\u001b[39;49m\u001b[38;5;241;43m.\u001b[39;49m\u001b[43mfinal_eval\u001b[49m\u001b[43m(\u001b[49m\u001b[43m)\u001b[49m\n\u001b[1;32m    378\u001b[0m     \u001b[38;5;28;01mif\u001b[39;00m \u001b[38;5;28mself\u001b[39m\u001b[38;5;241m.\u001b[39margs\u001b[38;5;241m.\u001b[39mplots:\n\u001b[1;32m    379\u001b[0m         \u001b[38;5;28mself\u001b[39m\u001b[38;5;241m.\u001b[39mplot_metrics()\n",
      "File \u001b[0;32m/opt/conda/lib/python3.10/site-packages/ultralytics/yolo/engine/trainer.py:525\u001b[0m, in \u001b[0;36mBaseTrainer.final_eval\u001b[0;34m(self)\u001b[0m\n\u001b[1;32m    523\u001b[0m \u001b[38;5;28;01mif\u001b[39;00m f \u001b[38;5;129;01mis\u001b[39;00m \u001b[38;5;28mself\u001b[39m\u001b[38;5;241m.\u001b[39mbest:\n\u001b[1;32m    524\u001b[0m     \u001b[38;5;28mself\u001b[39m\u001b[38;5;241m.\u001b[39mconsole\u001b[38;5;241m.\u001b[39minfo(\u001b[38;5;124mf\u001b[39m\u001b[38;5;124m'\u001b[39m\u001b[38;5;130;01m\\n\u001b[39;00m\u001b[38;5;124mValidating \u001b[39m\u001b[38;5;132;01m{\u001b[39;00mf\u001b[38;5;132;01m}\u001b[39;00m\u001b[38;5;124m...\u001b[39m\u001b[38;5;124m'\u001b[39m)\n\u001b[0;32m--> 525\u001b[0m     \u001b[38;5;28mself\u001b[39m\u001b[38;5;241m.\u001b[39mmetrics \u001b[38;5;241m=\u001b[39m \u001b[38;5;28;43mself\u001b[39;49m\u001b[38;5;241;43m.\u001b[39;49m\u001b[43mvalidator\u001b[49m\u001b[43m(\u001b[49m\u001b[43mmodel\u001b[49m\u001b[38;5;241;43m=\u001b[39;49m\u001b[43mf\u001b[49m\u001b[43m)\u001b[49m\n\u001b[1;32m    526\u001b[0m     \u001b[38;5;28mself\u001b[39m\u001b[38;5;241m.\u001b[39mmetrics\u001b[38;5;241m.\u001b[39mpop(\u001b[38;5;124m'\u001b[39m\u001b[38;5;124mfitness\u001b[39m\u001b[38;5;124m'\u001b[39m, \u001b[38;5;28;01mNone\u001b[39;00m)\n\u001b[1;32m    527\u001b[0m     \u001b[38;5;28mself\u001b[39m\u001b[38;5;241m.\u001b[39mrun_callbacks(\u001b[38;5;124m'\u001b[39m\u001b[38;5;124mon_fit_epoch_end\u001b[39m\u001b[38;5;124m'\u001b[39m)\n",
      "File \u001b[0;32m/opt/conda/lib/python3.10/site-packages/torch/utils/_contextlib.py:115\u001b[0m, in \u001b[0;36mcontext_decorator.<locals>.decorate_context\u001b[0;34m(*args, **kwargs)\u001b[0m\n\u001b[1;32m    112\u001b[0m \u001b[38;5;129m@functools\u001b[39m\u001b[38;5;241m.\u001b[39mwraps(func)\n\u001b[1;32m    113\u001b[0m \u001b[38;5;28;01mdef\u001b[39;00m \u001b[38;5;21mdecorate_context\u001b[39m(\u001b[38;5;241m*\u001b[39margs, \u001b[38;5;241m*\u001b[39m\u001b[38;5;241m*\u001b[39mkwargs):\n\u001b[1;32m    114\u001b[0m     \u001b[38;5;28;01mwith\u001b[39;00m ctx_factory():\n\u001b[0;32m--> 115\u001b[0m         \u001b[38;5;28;01mreturn\u001b[39;00m \u001b[43mfunc\u001b[49m\u001b[43m(\u001b[49m\u001b[38;5;241;43m*\u001b[39;49m\u001b[43margs\u001b[49m\u001b[43m,\u001b[49m\u001b[43m \u001b[49m\u001b[38;5;241;43m*\u001b[39;49m\u001b[38;5;241;43m*\u001b[39;49m\u001b[43mkwargs\u001b[49m\u001b[43m)\u001b[49m\n",
      "File \u001b[0;32m/opt/conda/lib/python3.10/site-packages/ultralytics/yolo/engine/validator.py:133\u001b[0m, in \u001b[0;36mBaseValidator.__call__\u001b[0;34m(self, trainer, model)\u001b[0m\n\u001b[1;32m    131\u001b[0m     \u001b[38;5;28mself\u001b[39m\u001b[38;5;241m.\u001b[39mdata \u001b[38;5;241m=\u001b[39m check_cls_dataset(\u001b[38;5;28mself\u001b[39m\u001b[38;5;241m.\u001b[39margs\u001b[38;5;241m.\u001b[39mdata)\n\u001b[1;32m    132\u001b[0m \u001b[38;5;28;01melse\u001b[39;00m:\n\u001b[0;32m--> 133\u001b[0m     \u001b[38;5;28;01mraise\u001b[39;00m \u001b[38;5;167;01mFileNotFoundError\u001b[39;00m(emojis(\u001b[38;5;124mf\u001b[39m\u001b[38;5;124m\"\u001b[39m\u001b[38;5;124mDataset \u001b[39m\u001b[38;5;124m'\u001b[39m\u001b[38;5;132;01m{\u001b[39;00m\u001b[38;5;28mself\u001b[39m\u001b[38;5;241m.\u001b[39margs\u001b[38;5;241m.\u001b[39mdata\u001b[38;5;132;01m}\u001b[39;00m\u001b[38;5;124m'\u001b[39m\u001b[38;5;124m not found ❌\u001b[39m\u001b[38;5;124m\"\u001b[39m))\n\u001b[1;32m    135\u001b[0m \u001b[38;5;28;01mif\u001b[39;00m \u001b[38;5;28mself\u001b[39m\u001b[38;5;241m.\u001b[39mdevice\u001b[38;5;241m.\u001b[39mtype \u001b[38;5;241m==\u001b[39m \u001b[38;5;124m'\u001b[39m\u001b[38;5;124mcpu\u001b[39m\u001b[38;5;124m'\u001b[39m:\n\u001b[1;32m    136\u001b[0m     \u001b[38;5;28mself\u001b[39m\u001b[38;5;241m.\u001b[39margs\u001b[38;5;241m.\u001b[39mworkers \u001b[38;5;241m=\u001b[39m \u001b[38;5;241m0\u001b[39m  \u001b[38;5;66;03m# faster CPU val as time dominated by inference, not dataloading\u001b[39;00m\n",
      "\u001b[0;31mFileNotFoundError\u001b[0m: Dataset '/work/dataset/yolov8/dataset.yml' not found ❌"
     ]
    }
   ],
   "source": [
    "# load model\n",
    "model = YOLO('keremberke/yolov8s-pcb-defect-segmentation')\n",
    "yml_path = Path(constant.DATASET_PATH) / 'yolov8/dataset.yml'\n",
    "model.train(data=str(yml_path), epochs=30, batch=1, workers=7, degrees=90.0)"
   ]
  },
  {
   "cell_type": "code",
   "execution_count": 6,
   "id": "00f54d75-7223-4f59-aaef-630305413aa3",
   "metadata": {
    "tags": []
   },
   "outputs": [
    {
     "name": "stderr",
     "output_type": "stream",
     "text": [
      "Ultralytics YOLOv8.0.43 🚀 Python-3.10.8 torch-2.0.0+cu117 CUDA:0 (NVIDIA GeForce RTX 2060 SUPER, 7967MiB)\n",
      "YOLOv8s-seg summary (fused): 195 layers, 11779987 parameters, 11779971 gradients, 42.4 GFLOPs\n",
      "/opt/conda/lib/python3.10/site-packages/torch/nn/modules/module.py:831: UserWarning: The .grad attribute of a Tensor that is not a leaf Tensor is being accessed. Its .grad attribute won't be populated during autograd.backward(). If you indeed want the .grad field to be populated for a non-leaf Tensor, use .retain_grad() on the non-leaf Tensor. If you access the non-leaf Tensor by mistake, make sure you access the leaf Tensor instead. See github.com/pytorch/pytorch/pull/30531 for more informations. (Triggered internally at aten/src/ATen/core/TensorBody.h:486.)\n",
      "  if param.grad is not None:\n",
      "\n",
      "image 1/1 /work/dataset/test_imgs/pcb_0f_cc_11.png: 416x640 39 partss, 45.3ms\n",
      "Speed: 0.3ms preprocess, 45.3ms inference, 2.0ms postprocess per image at shape (1, 3, 640, 640)\n"
     ]
    }
   ],
   "source": [
    "result = model.predict('../../dataset/test_imgs/pcb_0f_cc_11.png')"
   ]
  },
  {
   "cell_type": "code",
   "execution_count": 9,
   "id": "2ad58eb1-12a7-42b0-a394-76522a0fddbe",
   "metadata": {
    "tags": []
   },
   "outputs": [],
   "source": [
    "plt.imshow((result[0].masks.data.cpu().numpy() > 0.5).sum(axis=0).astype(bool))\n",
    "plt.show()"
   ]
  },
  {
   "cell_type": "code",
   "execution_count": 10,
   "id": "39c096f2-2e8c-4ffe-a3d7-8aa6a05654dc",
   "metadata": {
    "tags": []
   },
   "outputs": [
    {
     "data": {
      "text/plain": [
       "array([[0, 0, 0, ..., 0, 0, 0],\n",
       "       [0, 0, 0, ..., 0, 0, 0],\n",
       "       [0, 0, 0, ..., 0, 0, 0],\n",
       "       ...,\n",
       "       [0, 0, 0, ..., 0, 0, 0],\n",
       "       [0, 0, 0, ..., 0, 0, 0],\n",
       "       [0, 0, 0, ..., 0, 0, 0]])"
      ]
     },
     "execution_count": 10,
     "metadata": {},
     "output_type": "execute_result"
    }
   ],
   "source": [
    "(result[0].masks.data.cpu().numpy() > 0.5).sum(axis=0)"
   ]
  },
  {
   "cell_type": "code",
   "execution_count": 11,
   "id": "d733c838-fbb4-4ef9-a818-0261b66a5777",
   "metadata": {
    "tags": []
   },
   "outputs": [
    {
     "data": {
      "text/plain": [
       "(39, 416, 640)"
      ]
     },
     "execution_count": 11,
     "metadata": {},
     "output_type": "execute_result"
    }
   ],
   "source": [
    "result[0].masks.data.cpu().numpy().shape"
   ]
  },
  {
   "cell_type": "code",
   "execution_count": 12,
   "id": "7659fabb-cd65-4c94-a3cb-3d21306555d0",
   "metadata": {
    "tags": []
   },
   "outputs": [],
   "source": [
    "plt.imsave('test.png', (result[0].masks.data.cpu().numpy() > 0.5).sum(axis=0).astype(bool))"
   ]
  },
  {
   "cell_type": "code",
   "execution_count": null,
   "id": "a44f6c8f-3031-4636-b592-5b10263d9439",
   "metadata": {},
   "outputs": [],
   "source": []
  }
 ],
 "metadata": {
  "kernelspec": {
   "display_name": "Python 3 (ipykernel)",
   "language": "python",
   "name": "python3"
  },
  "language_info": {
   "codemirror_mode": {
    "name": "ipython",
    "version": 3
   },
   "file_extension": ".py",
   "mimetype": "text/x-python",
   "name": "python",
   "nbconvert_exporter": "python",
   "pygments_lexer": "ipython3",
   "version": "3.10.8"
  }
 },
 "nbformat": 4,
 "nbformat_minor": 5
}
